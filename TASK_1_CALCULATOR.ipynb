{
  "nbformat": 4,
  "nbformat_minor": 0,
  "metadata": {
    "colab": {
      "provenance": [],
      "authorship_tag": "ABX9TyMT2Z/ex6f+4U05tfQdBMOg",
      "include_colab_link": true
    },
    "kernelspec": {
      "name": "python3",
      "display_name": "Python 3"
    },
    "language_info": {
      "name": "python"
    }
  },
  "cells": [
    {
      "cell_type": "markdown",
      "metadata": {
        "id": "view-in-github",
        "colab_type": "text"
      },
      "source": [
        "<a href=\"https://colab.research.google.com/github/neerajyadav001/CODSOFT/blob/main/TASK_1_CALCULATOR.ipynb\" target=\"_parent\"><img src=\"https://colab.research.google.com/assets/colab-badge.svg\" alt=\"Open In Colab\"/></a>"
      ]
    },
    {
      "cell_type": "markdown",
      "source": [
        "CALCULATOR PROGRAM"
      ],
      "metadata": {
        "id": "p0M9DMG-PKoT"
      }
    },
    {
      "cell_type": "code",
      "source": [
        "print(\"Operations:\")\n",
        "print(\"1. Addition (+)\")\n",
        "print(\"2. Subtraction (-)\")\n",
        "print(\"3. Multiplication (*)\")\n",
        "print(\"4. Division (/)\")\n",
        "\n",
        "choice = input(\"Choose an operation (1, 2, 3, 4): \")\n",
        "\n",
        "num1 = float(input(\"Enter the first number: \"))\n",
        "num2 = float(input(\"Enter the second number: \"))\n",
        "\n",
        "if choice == '1':\n",
        "    result = num1 + num2\n",
        "elif choice == '2':\n",
        "    result = num1 - num2\n",
        "elif choice == '3':\n",
        "    result = num1 * num2\n",
        "elif choice == '4':\n",
        "    if num2 == 0:\n",
        "        result = \"Error: Cannot divide by zero.\"\n",
        "    else:\n",
        "        result = num1 / num2\n",
        "else:\n",
        "    result = \"Invalid choice\"\n",
        "\n",
        "print(\"Result:\", result)"
      ],
      "metadata": {
        "colab": {
          "base_uri": "https://localhost:8080/"
        },
        "id": "KYuC-2WBQcx8",
        "outputId": "dbf5759b-5ec8-4c28-c959-4112ff7c4b0a"
      },
      "execution_count": null,
      "outputs": [
        {
          "output_type": "stream",
          "name": "stdout",
          "text": [
            "Simple Calculator\n",
            "Operations:\n",
            "1. Addition (+)\n",
            "2. Subtraction (-)\n",
            "3. Multiplication (*)\n",
            "4. Division (/)\n",
            "Choose an operation (1/2/3/4): 4\n",
            "Enter first number: 10\n",
            "Enter second number: 0\n",
            "Result: Error: Cannot divide by zero.\n"
          ]
        }
      ]
    },
    {
      "cell_type": "code",
      "source": [],
      "metadata": {
        "id": "FqIDeMVkTczt"
      },
      "execution_count": null,
      "outputs": []
    }
  ]
}