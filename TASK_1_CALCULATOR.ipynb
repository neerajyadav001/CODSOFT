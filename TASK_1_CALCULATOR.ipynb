{
  "nbformat": 4,
  "nbformat_minor": 0,
  "metadata": {
    "colab": {
      "provenance": [],
      "authorship_tag": "ABX9TyMT2Z/ex6f+4U05tfQdBMOg",
      "include_colab_link": true
    },
    "kernelspec": {
      "name": "python3",
      "display_name": "Python 3"
    },
    "language_info": {
      "name": "python"
    }
  },
  "cells": [
    {
      "cell_type": "markdown",
      "metadata": {
        "id": "view-in-github",
        "colab_type": "text"
      },
      "source": [
        "<a href=\"https://colab.research.google.com/github/neerajyadav001/CODSOFT/blob/main/TASK_1_CALCULATOR.ipynb\" target=\"_parent\"><img src=\"https://colab.research.google.com/assets/colab-badge.svg\" alt=\"Open In Colab\"/></a>"
      ]
    },
    {
      "cell_type": "markdown",
      "source": [
        "CALCULATOR PROGRAM"
      ],
      "metadata": {
        "id": "p0M9DMG-PKoT"
      }
    },
    {
      "cell_type": "code",
      "source": [
        "print(\"Operations:\")\n",
        "print(\"1. Addition (+)\")\n",
        "print(\"2. Subtraction (-)\")\n",
        "print(\"3. Multiplication (*)\")\n",
        "print(\"4. Division (/)\")\n",
        "\n",
        "choice = input(\"Choose an operation (1, 2, 3, 4): \")\n",
        "\n",
        "num1 = float(input(\"Enter the first number: \"))\n",
        "num2 = float(input(\"Enter the second number: \"))\n",
        "\n",
        "if choice == '1':\n",
        "    result = num1 + num2\n",
        "elif choice == '2':\n",
        "    result = num1 - num2\n",
        "elif choice == '3':\n",
        "    result = num1 * num2\n",
        "elif choice == '4':\n",
        "    if num2 == 0:\n",
        "        result = \"Error: Cannot divide by zero.\"\n",
        "    else:\n",
        "        result = num1 / num2\n",
        "else:\n",
        "    result = \"Invalid choice\"\n",
        "\n",
        "print(\"Result:\", result)"
      ],
      "metadata": {
        "colab": {
          "base_uri": "https://localhost:8080/"
        },
        "id": "KYuC-2WBQcx8",
        "outputId": "bc66215c-4a84-44de-dd0c-1627584f514d"
      },
      "execution_count": 1,
      "outputs": [
        {
          "output_type": "stream",
          "name": "stdout",
          "text": [
            "Operations:\n",
            "1. Addition (+)\n",
            "2. Subtraction (-)\n",
            "3. Multiplication (*)\n",
            "4. Division (/)\n",
            "Choose an operation (1, 2, 3, 4): 1\n",
            "Enter the first number: 48\n",
            "Enter the second number: 23\n",
            "Result: 71.0\n"
          ]
        }
      ]
    },
    {
      "cell_type": "code",
      "source": [],
      "metadata": {
        "id": "FqIDeMVkTczt"
      },
      "execution_count": null,
      "outputs": []
    }
  ]
}